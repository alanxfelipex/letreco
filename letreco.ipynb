{
 "cells": [
  {
   "cell_type": "code",
   "execution_count": null,
   "id": "73017cf4",
   "metadata": {},
   "outputs": [],
   "source": [
    "# Veja mais informações no post do Medium\n",
    "\n",
    "# https://medium.com/@conversandoemcodigos/resolvendo-o-letreco-de-maneira-aut%C3%B4noma-76373fcfbd36"
   ]
  },
  {
   "cell_type": "code",
   "execution_count": null,
   "id": "4a8ba539",
   "metadata": {},
   "outputs": [],
   "source": [
    "#Importando as bibliotecas. \n",
    "# Para usar o Selenium, é necessário baixar também o drive compatível\n",
    "\n",
    "import pandas as pd\n",
    "from selenium import webdriver\n",
    "from selenium.webdriver.common.keys import Keys\n",
    "from selenium.webdriver.common.by import By\n",
    "import pyautogui\n",
    "from time import sleep\n",
    "from random import randint"
   ]
  },
  {
   "cell_type": "code",
   "execution_count": null,
   "id": "bccba0fd",
   "metadata": {},
   "outputs": [],
   "source": [
    "# Essa define a cor da letra.\n",
    "def cor_letra(x, letra):\n",
    "    if len(verde[x]) == 0:\n",
    "        if letra == 'letter-wrapper rounded d-flex justify-content-center align-items-center right me-2' or letra == 'letter-wrapper rounded d-flex justify-content-center align-items-center right':\n",
    "            verde[x].insert(x, palavra_digitada[x])\n",
    "        elif letra == \"letter-wrapper rounded d-flex justify-content-center align-items-center displaced\" or letra== 'letter-wrapper rounded d-flex justify-content-center align-items-center displaced me-2':\n",
    "            amarelo[x].insert(x, palavra_digitada[x])\n",
    "        elif letra == \"letter-wrapper rounded d-flex justify-content-center align-items-center wrong\" or letra== \"letter-wrapper rounded d-flex justify-content-center align-items-center wrong me-2\":\n",
    "            vermelho[x].insert(x, palavra_digitada[x])\n",
    "\n",
    "        \n",
    "# Essa função define em qual linha do site vai ser trabalhado e depois usa função anterior para definir a cor da letra      \n",
    "def fila(linha):\n",
    "    letra0 = navegador.find_element_by_xpath(f'//*[@id=\"root\"]/div/div[2]/div[1]/div/div/div[{linha}]/div[1]').get_attribute('class')\n",
    "    letra1 = navegador.find_element_by_xpath(f'//*[@id=\"root\"]/div/div[2]/div[1]/div/div/div[{linha}]/div[2]').get_attribute('class')\n",
    "    letra2 = navegador.find_element_by_xpath(f'//*[@id=\"root\"]/div/div[2]/div[1]/div/div/div[{linha}]/div[3]').get_attribute('class')\n",
    "    letra3 = navegador.find_element_by_xpath(f'//*[@id=\"root\"]/div/div[2]/div[1]/div/div/div[{linha}]/div[4]').get_attribute('class')\n",
    "    letra4 = navegador.find_element_by_xpath(f'//*[@id=\"root\"]/div/div[2]/div[1]/div/div/div[{linha}]/div[5]').get_attribute('class')\n",
    "    cor_letra(0, letra0)\n",
    "    cor_letra(1, letra1)\n",
    "    cor_letra(2, letra2)\n",
    "    cor_letra(3, letra3)\n",
    "    cor_letra(4, letra4)\n",
    "    "
   ]
  },
  {
   "cell_type": "code",
   "execution_count": null,
   "id": "cea7f55c",
   "metadata": {},
   "outputs": [],
   "source": [
    "# Estabelecendo as listas\n",
    "verde = [[],[],[],[],[]]\n",
    "vermelho = [[],[],[],[],[]]\n",
    "amarelo = [[],[],[],[],[]]\n",
    "\n",
    "# subindo o banco de palavras\n",
    "palavras = pd.read_csv('termo.csv')\n",
    "\n",
    "# Solicitando a palavra\n",
    "palavra_digitada = input('Digite uma palavra de cinco letras: ')\n",
    "\n",
    "# Entrando no site e digitando a palavra escolhida\n",
    "navegador = webdriver.Chrome()\n",
    "navegador.get('https://www.gabtoschi.com/letreco/')\n",
    "sleep(1)\n",
    "pyautogui.write(palavra_digitada)\n",
    "navegador.find_element_by_xpath('//*[@id=\"root\"]/div/div[2]/div[2]/div[1]/button[2]').click()\n",
    "\n",
    "# Mudando de fila automaticamente\n",
    "for num in range(1, 6):\n",
    "    fila(num)\n",
    "    for c in range(0, 5):\n",
    "        \n",
    "        # Verde: elimina primeiro todas as palavras que não tem a letra verde\n",
    "        # e depois elimina as que não tem a letra verde naquela posição \n",
    "\n",
    "        if len(verde[c]) == 1:\n",
    "            palavras = palavras[palavras['palavras'].str.contains(verde[c][0])]\n",
    "            for i in palavras.index:\n",
    "                if palavras['palavras'][i][c] != verde[c][0]:\n",
    "                    palavras = palavras.drop(i)\n",
    "        \n",
    "        # Amarelo: primeiro elimina quem não tem a letra amarela e depois apaga\n",
    "        # quem tem a letra naquela posição\n",
    "\n",
    "        elif len(amarelo[c]) == 1:\n",
    "            palavras = palavras[palavras['palavras'].str.contains(amarelo[c][0])]\n",
    "            for i in palavras.index:\n",
    "                if palavras['palavras'][i][c] == amarelo[c][0]:\n",
    "                    palavras = palavras.drop(i)\n",
    "                    \n",
    "        # Vermelho: elimina as palavras que tem a letra naquela posição  \n",
    "        \n",
    "        elif len(vermelho[c]) == 1:\n",
    "            for i in palavras.index:\n",
    "                if palavras['palavras'][i][c] == vermelho[c][0]:\n",
    "                    palavras = palavras.drop(i)\n",
    "                    \n",
    "    # Limpeza: \n",
    "    vermelho = [[],[],[],[],[]]\n",
    "    amarelo = [[],[],[],[],[]]\n",
    "                    \n",
    "    # Resetando o índice e gerando uma nova palavra para ser digitada \n",
    "    palavras.reset_index(drop=True, inplace=True)\n",
    "    sorteio = randint(0, len(palavras) - 1)\n",
    "    palavra_digitada = palavras['palavras'][sorteio]       \n",
    "    sleep(1)\n",
    "    pyautogui.write(palavra_digitada)\n",
    "    navegador.find_element_by_xpath('//*[@id=\"root\"]/div/div[2]/div[2]/div[1]/button[2]').click()"
   ]
  },
  {
   "cell_type": "code",
   "execution_count": null,
   "id": "4affbb95",
   "metadata": {},
   "outputs": [],
   "source": [
    "# Para encontrar qual o indíce da palavra a se excluir\n",
    "\n",
    "palavras = pd.read_csv('termo.csv')\n",
    "palavras.query('palavras == \"_____\"')"
   ]
  },
  {
   "cell_type": "code",
   "execution_count": null,
   "id": "8497a0c4",
   "metadata": {},
   "outputs": [],
   "source": [
    "# Exclui a palavra e exporta um novo dicionário\n",
    "\n",
    "palavras = palavras.drop()\n",
    "palavras.to_csv('termo.csv', index=False)"
   ]
  }
 ],
 "metadata": {
  "kernelspec": {
   "display_name": "Python 3 (ipykernel)",
   "language": "python",
   "name": "python3"
  },
  "language_info": {
   "codemirror_mode": {
    "name": "ipython",
    "version": 3
   },
   "file_extension": ".py",
   "mimetype": "text/x-python",
   "name": "python",
   "nbconvert_exporter": "python",
   "pygments_lexer": "ipython3",
   "version": "3.9.7"
  }
 },
 "nbformat": 4,
 "nbformat_minor": 5
}
